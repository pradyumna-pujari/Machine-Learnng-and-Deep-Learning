{
 "cells": [
  {
   "cell_type": "markdown",
   "metadata": {},
   "source": [
    "# DETECTING COVID-19 USING X-RAY IMAGES"
   ]
  },
  {
   "cell_type": "markdown",
   "metadata": {},
   "source": [
    "In this project we are trying to detect covid-19 using x-ray images.Here we took 2 data source 1.github(for covid-19 x-ray images ) and 2.kaggle(for normal x-ray images ) "
   ]
  },
  {
   "attachments": {
    "images%20%281%29.jpg": {
     "image/jpeg": "[encoded data removed]"
    }
   },
   "cell_type": "markdown",
   "metadata": {},
   "source": [
    "![images%20%281%29.jpg](attachment:images%20%281%29.jpg)"
   ]
  },
  {
   "cell_type": "markdown",
   "metadata": {},
   "source": [
    "# Dataset Creation"
   ]
  },
  {
   "cell_type": "code",
   "execution_count": 1,
   "metadata": {},
   "outputs": [],
   "source": [
    "import pandas as pd\n",
    "import os\n",
    "import shutil\n"
   ]
  },
  {
   "cell_type": "code",
   "execution_count": 2,
   "metadata": {},
   "outputs": [],
   "source": [
    "#Create the data from positive samples(github)\n",
    "file_path = \"metadata.csv\"\n",
    "images_path = \"images\""
   ]
  },
  {
   "cell_type": "code",
   "execution_count": 3,
   "metadata": {},
   "outputs": [],
   "source": [
    "df = pd.read_csv(file_path)    # import the data"
   ]
  },
  {
   "cell_type": "code",
   "execution_count": 4,
   "metadata": {},
   "outputs": [
    {
     "data": {
      "text/plain": [
       "(950, 30)"
      ]
     },
     "execution_count": 4,
     "metadata": {},
     "output_type": "execute_result"
    }
   ],
   "source": [
    "df.shape"
   ]
  },
  {
   "cell_type": "code",
   "execution_count": 5,
   "metadata": {},
   "outputs": [
    {
     "data": {
      "text/html": [
       "<div>\n",
       "<style scoped>\n",
       "    .dataframe tbody tr th:only-of-type {\n",
       "        vertical-align: middle;\n",
       "    }\n",
       "\n",
       "    .dataframe tbody tr th {\n",
       "        vertical-align: top;\n",
       "    }\n",
       "\n",
       "    .dataframe thead th {\n",
       "        text-align: right;\n",
       "    }\n",
       "</style>\n",
       "<table border=\"1\" class=\"dataframe\">\n",
       "  <thead>\n",
       "    <tr style=\"text-align: right;\">\n",
       "      <th></th>\n",
       "      <th>patientid</th>\n",
       "      <th>offset</th>\n",
       "      <th>sex</th>\n",
       "      <th>age</th>\n",
       "      <th>finding</th>\n",
       "      <th>RT_PCR_positive</th>\n",
       "      <th>survival</th>\n",
       "      <th>intubated</th>\n",
       "      <th>intubation_present</th>\n",
       "      <th>went_icu</th>\n",
       "      <th>...</th>\n",
       "      <th>date</th>\n",
       "      <th>location</th>\n",
       "      <th>folder</th>\n",
       "      <th>filename</th>\n",
       "      <th>doi</th>\n",
       "      <th>url</th>\n",
       "      <th>license</th>\n",
       "      <th>clinical_notes</th>\n",
       "      <th>other_notes</th>\n",
       "      <th>Unnamed: 29</th>\n",
       "    </tr>\n",
       "  </thead>\n",
       "  <tbody>\n",
       "    <tr>\n",
       "      <th>690</th>\n",
       "      <td>363</td>\n",
       "      <td>NaN</td>\n",
       "      <td>F</td>\n",
       "      <td>55.0</td>\n",
       "      <td>Pneumonia/Bacterial/Legionella</td>\n",
       "      <td>NaN</td>\n",
       "      <td>NaN</td>\n",
       "      <td>NaN</td>\n",
       "      <td>NaN</td>\n",
       "      <td>NaN</td>\n",
       "      <td>...</td>\n",
       "      <td>NaN</td>\n",
       "      <td>Melbourne, Australia</td>\n",
       "      <td>images</td>\n",
       "      <td>f6ece95b172eadba762bf3daef7441_jumbo-1.jpeg</td>\n",
       "      <td>NaN</td>\n",
       "      <td>https://radiopaedia.org/cases/legionella-pneum...</td>\n",
       "      <td>CC BY-NC-SA</td>\n",
       "      <td>Presentation: Fevers, cough. . Imaging Notes: ...</td>\n",
       "      <td>Case courtesy of Dr Henry Knipe, Radiopaedia.o...</td>\n",
       "      <td>NaN</td>\n",
       "    </tr>\n",
       "    <tr>\n",
       "      <th>79</th>\n",
       "      <td>35</td>\n",
       "      <td>NaN</td>\n",
       "      <td>M</td>\n",
       "      <td>43.0</td>\n",
       "      <td>Pneumonia/Viral/COVID-19</td>\n",
       "      <td>Y</td>\n",
       "      <td>NaN</td>\n",
       "      <td>NaN</td>\n",
       "      <td>NaN</td>\n",
       "      <td>NaN</td>\n",
       "      <td>...</td>\n",
       "      <td>Mar 4, 2020</td>\n",
       "      <td>Italy</td>\n",
       "      <td>images</td>\n",
       "      <td>925446AE-B3C7-4C93-941B-AC4D2FE1F455.jpeg</td>\n",
       "      <td>NaN</td>\n",
       "      <td>https://www.sirm.org/2020/03/04/covid-19-caso-7/</td>\n",
       "      <td>NaN</td>\n",
       "      <td>Extended ground glass alteration in the LIS, w...</td>\n",
       "      <td>Credit to Radiology ASST Cremona</td>\n",
       "      <td>NaN</td>\n",
       "    </tr>\n",
       "    <tr>\n",
       "      <th>26</th>\n",
       "      <td>13</td>\n",
       "      <td>9.0</td>\n",
       "      <td>M</td>\n",
       "      <td>35.0</td>\n",
       "      <td>Pneumonia/Viral/COVID-19</td>\n",
       "      <td>Y</td>\n",
       "      <td>Y</td>\n",
       "      <td>N</td>\n",
       "      <td>N</td>\n",
       "      <td>N</td>\n",
       "      <td>...</td>\n",
       "      <td>January 24, 2020</td>\n",
       "      <td>Snohomish County, Washington, United States</td>\n",
       "      <td>images</td>\n",
       "      <td>nejmoa2001191_f4.jpeg</td>\n",
       "      <td>10.1056/NEJMoa2001191</td>\n",
       "      <td>https://www.nejm.org/doi/full/10.1056/NEJMoa20...</td>\n",
       "      <td>NaN</td>\n",
       "      <td>On January 19, 2020, a 35-year-old man present...</td>\n",
       "      <td>NaN</td>\n",
       "      <td>NaN</td>\n",
       "    </tr>\n",
       "    <tr>\n",
       "      <th>522</th>\n",
       "      <td>282</td>\n",
       "      <td>0.0</td>\n",
       "      <td>M</td>\n",
       "      <td>46.0</td>\n",
       "      <td>Pneumonia/Bacterial/Mycoplasma</td>\n",
       "      <td>NaN</td>\n",
       "      <td>Y</td>\n",
       "      <td>N</td>\n",
       "      <td>N</td>\n",
       "      <td>NaN</td>\n",
       "      <td>...</td>\n",
       "      <td>2015</td>\n",
       "      <td>Milan, Italy</td>\n",
       "      <td>images</td>\n",
       "      <td>000001.jpg</td>\n",
       "      <td>NaN</td>\n",
       "      <td>https://www.eurorad.org/case/12325</td>\n",
       "      <td>CC BY-NC-SA 4.0</td>\n",
       "      <td>A middle-aged male with newly diagnosed Human ...</td>\n",
       "      <td>Credit to Tonolini Massimo, MD.</td>\n",
       "      <td>NaN</td>\n",
       "    </tr>\n",
       "    <tr>\n",
       "      <th>804</th>\n",
       "      <td>420</td>\n",
       "      <td>60.0</td>\n",
       "      <td>M</td>\n",
       "      <td>45.0</td>\n",
       "      <td>Pneumonia/Bacterial/Nocardia</td>\n",
       "      <td>NaN</td>\n",
       "      <td>NaN</td>\n",
       "      <td>NaN</td>\n",
       "      <td>NaN</td>\n",
       "      <td>NaN</td>\n",
       "      <td>...</td>\n",
       "      <td>NaN</td>\n",
       "      <td>Milan, Italy</td>\n",
       "      <td>images</td>\n",
       "      <td>000008.jpg</td>\n",
       "      <td>NaN</td>\n",
       "      <td>https://www.eurorad.org/case/10027</td>\n",
       "      <td>CC BY-NC-SA 4.0</td>\n",
       "      <td>A middle-aged, 45-year-old male patient with l...</td>\n",
       "      <td>NaN</td>\n",
       "      <td>NaN</td>\n",
       "    </tr>\n",
       "    <tr>\n",
       "      <th>381</th>\n",
       "      <td>209</td>\n",
       "      <td>NaN</td>\n",
       "      <td>F</td>\n",
       "      <td>59.0</td>\n",
       "      <td>Pneumonia/Viral/COVID-19</td>\n",
       "      <td>Unclear</td>\n",
       "      <td>NaN</td>\n",
       "      <td>NaN</td>\n",
       "      <td>NaN</td>\n",
       "      <td>NaN</td>\n",
       "      <td>...</td>\n",
       "      <td>NaN</td>\n",
       "      <td>Centro Hospitalar Universitário do Porto, Port...</td>\n",
       "      <td>images</td>\n",
       "      <td>16689_2_4.png</td>\n",
       "      <td>NaN</td>\n",
       "      <td>https://www.eurorad.org/case/16689</td>\n",
       "      <td>CC BY-NC-SA 4.0</td>\n",
       "      <td>An 83-year-old female patient, presented with ...</td>\n",
       "      <td>NaN</td>\n",
       "      <td>NaN</td>\n",
       "    </tr>\n",
       "  </tbody>\n",
       "</table>\n",
       "<p>6 rows × 30 columns</p>\n",
       "</div>"
      ],
      "text/plain": [
       "    patientid  offset sex   age                         finding  \\\n",
       "690       363     NaN   F  55.0  Pneumonia/Bacterial/Legionella   \n",
       "79         35     NaN   M  43.0        Pneumonia/Viral/COVID-19   \n",
       "26         13     9.0   M  35.0        Pneumonia/Viral/COVID-19   \n",
       "522       282     0.0   M  46.0  Pneumonia/Bacterial/Mycoplasma   \n",
       "804       420    60.0   M  45.0    Pneumonia/Bacterial/Nocardia   \n",
       "381       209     NaN   F  59.0        Pneumonia/Viral/COVID-19   \n",
       "\n",
       "    RT_PCR_positive survival intubated intubation_present went_icu  ...  \\\n",
       "690             NaN      NaN       NaN                NaN      NaN  ...   \n",
       "79                Y      NaN       NaN                NaN      NaN  ...   \n",
       "26                Y        Y         N                  N        N  ...   \n",
       "522             NaN        Y         N                  N      NaN  ...   \n",
       "804             NaN      NaN       NaN                NaN      NaN  ...   \n",
       "381         Unclear      NaN       NaN                NaN      NaN  ...   \n",
       "\n",
       "                 date                                           location  \\\n",
       "690               NaN                               Melbourne, Australia   \n",
       "79        Mar 4, 2020                                              Italy   \n",
       "26   January 24, 2020        Snohomish County, Washington, United States   \n",
       "522              2015                                       Milan, Italy   \n",
       "804               NaN                                       Milan, Italy   \n",
       "381               NaN  Centro Hospitalar Universitário do Porto, Port...   \n",
       "\n",
       "     folder                                     filename  \\\n",
       "690  images  f6ece95b172eadba762bf3daef7441_jumbo-1.jpeg   \n",
       "79   images    925446AE-B3C7-4C93-941B-AC4D2FE1F455.jpeg   \n",
       "26   images                        nejmoa2001191_f4.jpeg   \n",
       "522  images                                   000001.jpg   \n",
       "804  images                                   000008.jpg   \n",
       "381  images                                16689_2_4.png   \n",
       "\n",
       "                       doi                                                url  \\\n",
       "690                    NaN  https://radiopaedia.org/cases/legionella-pneum...   \n",
       "79                     NaN   https://www.sirm.org/2020/03/04/covid-19-caso-7/   \n",
       "26   10.1056/NEJMoa2001191  https://www.nejm.org/doi/full/10.1056/NEJMoa20...   \n",
       "522                    NaN                 https://www.eurorad.org/case/12325   \n",
       "804                    NaN                 https://www.eurorad.org/case/10027   \n",
       "381                    NaN                 https://www.eurorad.org/case/16689   \n",
       "\n",
       "             license                                     clinical_notes  \\\n",
       "690      CC BY-NC-SA  Presentation: Fevers, cough. . Imaging Notes: ...   \n",
       "79               NaN  Extended ground glass alteration in the LIS, w...   \n",
       "26               NaN  On January 19, 2020, a 35-year-old man present...   \n",
       "522  CC BY-NC-SA 4.0  A middle-aged male with newly diagnosed Human ...   \n",
       "804  CC BY-NC-SA 4.0  A middle-aged, 45-year-old male patient with l...   \n",
       "381  CC BY-NC-SA 4.0  An 83-year-old female patient, presented with ...   \n",
       "\n",
       "                                           other_notes Unnamed: 29  \n",
       "690  Case courtesy of Dr Henry Knipe, Radiopaedia.o...         NaN  \n",
       "79                    Credit to Radiology ASST Cremona         NaN  \n",
       "26                                                 NaN         NaN  \n",
       "522                    Credit to Tonolini Massimo, MD.         NaN  \n",
       "804                                                NaN         NaN  \n",
       "381                                                NaN         NaN  \n",
       "\n",
       "[6 rows x 30 columns]"
      ]
     },
     "execution_count": 5,
     "metadata": {},
     "output_type": "execute_result"
    }
   ],
   "source": [
    "df.sample(6)"
   ]
  },
  {
   "cell_type": "code",
   "execution_count": 6,
   "metadata": {},
   "outputs": [
    {
     "data": {
      "text/plain": [
       "Index(['patientid', 'offset', 'sex', 'age', 'finding', 'RT_PCR_positive',\n",
       "       'survival', 'intubated', 'intubation_present', 'went_icu', 'in_icu',\n",
       "       'needed_supplemental_O2', 'extubated', 'temperature', 'pO2_saturation',\n",
       "       'leukocyte_count', 'neutrophil_count', 'lymphocyte_count', 'view',\n",
       "       'modality', 'date', 'location', 'folder', 'filename', 'doi', 'url',\n",
       "       'license', 'clinical_notes', 'other_notes', 'Unnamed: 29'],\n",
       "      dtype='object')"
      ]
     },
     "execution_count": 6,
     "metadata": {},
     "output_type": "execute_result"
    }
   ],
   "source": [
    "df.columns"
   ]
  },
  {
   "cell_type": "code",
   "execution_count": 7,
   "metadata": {},
   "outputs": [
    {
     "data": {
      "text/plain": [
       "Pneumonia/Viral/COVID-19                   584\n",
       "todo                                        83\n",
       "Pneumonia                                   81\n",
       "Pneumonia/Fungal/Pneumocystis               30\n",
       "Pneumonia/Bacterial/Streptococcus           22\n",
       "No Finding                                  22\n",
       "Tuberculosis                                18\n",
       "Pneumonia/Viral/SARS                        16\n",
       "Pneumonia/Lipoid                            13\n",
       "Pneumonia/Bacterial/Mycoplasma              11\n",
       "Pneumonia/Viral/MERS-CoV                    10\n",
       "Pneumonia/Bacterial/Klebsiella              10\n",
       "Pneumonia/Bacterial/Legionella              10\n",
       "Pneumonia/Bacterial/Nocardia                 8\n",
       "Pneumonia/Viral/Varicella                    6\n",
       "Pneumonia/Viral/Influenza                    5\n",
       "Pneumonia/Bacterial                          4\n",
       "Pneumonia/Bacterial/E.Coli                   4\n",
       "Pneumonia/Viral/Herpes                       3\n",
       "Pneumonia/Bacterial/Chlamydophila            3\n",
       "Pneumonia/Viral/Influenza/H1N1               2\n",
       "Pneumonia/Fungal/Aspergillosis               2\n",
       "Unknown                                      1\n",
       "Pneumonia/Aspiration                         1\n",
       "Pneumonia/Bacterial/Staphylococcus/MRSA      1\n",
       "Name: finding, dtype: int64"
      ]
     },
     "execution_count": 7,
     "metadata": {},
     "output_type": "execute_result"
    }
   ],
   "source": [
    "df.finding.value_counts()"
   ]
  },
  {
   "cell_type": "code",
   "execution_count": 8,
   "metadata": {},
   "outputs": [],
   "source": [
    "target_dir = \"Dataset/covid\"   \n",
    "\n",
    "if not os.path.exists(target_dir):\n",
    "    os.mkdir(target_dir)                     ##creating new folder\n",
    "    print(\"covid floder is created\")"
   ]
  },
  {
   "cell_type": "code",
   "execution_count": 9,
   "metadata": {},
   "outputs": [
    {
     "name": "stdout",
     "output_type": "stream",
     "text": [
      "196\n"
     ]
    }
   ],
   "source": [
    "cnt = 0\n",
    "\n",
    "for (i,row) in df.iterrows():                                             ##iterating over all the rows\n",
    "    if row[\"finding\"]==\"Pneumonia/Viral/COVID-19\" and row[\"view\"]==\"PA\":  #check for conditons\n",
    "        filename = row[\"filename\"]                                        #store in the given name \n",
    "        image_path = os.path.join(images_path,filename)\n",
    "        image_copy_path = os.path.join(target_dir,filename)\n",
    "        shutil.copy2(image_path,image_copy_path)                          #fltered mages copied from orignal dir to new file\n",
    "       # print(\"Moving image\",cnt)\n",
    "        cnt+=1\n",
    "    \n",
    "print(cnt)"
   ]
  },
  {
   "cell_type": "code",
   "execution_count": 10,
   "metadata": {},
   "outputs": [],
   "source": [
    "# sampling of images from kaggle\n",
    "import random\n",
    "kaggle_file_path = \"chest_xray_kaggle/train/NORMAL\"\n",
    "target_normal_dir = \"Dataset/Normal\""
   ]
  },
  {
   "cell_type": "code",
   "execution_count": 11,
   "metadata": {},
   "outputs": [],
   "source": [
    "image_names = os.listdir(kaggle_file_path)"
   ]
  },
  {
   "cell_type": "code",
   "execution_count": 12,
   "metadata": {},
   "outputs": [],
   "source": [
    "random.shuffle(image_names)                     "
   ]
  },
  {
   "cell_type": "code",
   "execution_count": 13,
   "metadata": {},
   "outputs": [
    {
     "name": "stdout",
     "output_type": "stream",
     "text": [
      "copying image 0\n",
      "copying image 1\n",
      "copying image 2\n",
      "copying image 3\n",
      "copying image 4\n",
      "copying image 5\n",
      "copying image 6\n",
      "copying image 7\n",
      "copying image 8\n",
      "copying image 9\n",
      "copying image 10\n",
      "copying image 11\n",
      "copying image 12\n",
      "copying image 13\n",
      "copying image 14\n",
      "copying image 15\n",
      "copying image 16\n",
      "copying image 17\n",
      "copying image 18\n",
      "copying image 19\n",
      "copying image 20\n",
      "copying image 21\n",
      "copying image 22\n",
      "copying image 23\n",
      "copying image 24\n",
      "copying image 25\n",
      "copying image 26\n",
      "copying image 27\n",
      "copying image 28\n",
      "copying image 29\n",
      "copying image 30\n",
      "copying image 31\n",
      "copying image 32\n",
      "copying image 33\n",
      "copying image 34\n",
      "copying image 35\n",
      "copying image 36\n",
      "copying image 37\n",
      "copying image 38\n",
      "copying image 39\n",
      "copying image 40\n",
      "copying image 41\n",
      "copying image 42\n",
      "copying image 43\n",
      "copying image 44\n",
      "copying image 45\n",
      "copying image 46\n",
      "copying image 47\n",
      "copying image 48\n",
      "copying image 49\n",
      "copying image 50\n",
      "copying image 51\n",
      "copying image 52\n",
      "copying image 53\n",
      "copying image 54\n",
      "copying image 55\n",
      "copying image 56\n",
      "copying image 57\n",
      "copying image 58\n",
      "copying image 59\n",
      "copying image 60\n",
      "copying image 61\n",
      "copying image 62\n",
      "copying image 63\n",
      "copying image 64\n",
      "copying image 65\n",
      "copying image 66\n",
      "copying image 67\n",
      "copying image 68\n",
      "copying image 69\n",
      "copying image 70\n",
      "copying image 71\n",
      "copying image 72\n",
      "copying image 73\n",
      "copying image 74\n",
      "copying image 75\n",
      "copying image 76\n",
      "copying image 77\n",
      "copying image 78\n",
      "copying image 79\n",
      "copying image 80\n",
      "copying image 81\n",
      "copying image 82\n",
      "copying image 83\n",
      "copying image 84\n",
      "copying image 85\n",
      "copying image 86\n",
      "copying image 87\n",
      "copying image 88\n",
      "copying image 89\n",
      "copying image 90\n",
      "copying image 91\n",
      "copying image 92\n",
      "copying image 93\n",
      "copying image 94\n",
      "copying image 95\n",
      "copying image 96\n",
      "copying image 97\n",
      "copying image 98\n",
      "copying image 99\n",
      "copying image 100\n",
      "copying image 101\n",
      "copying image 102\n",
      "copying image 103\n",
      "copying image 104\n",
      "copying image 105\n",
      "copying image 106\n",
      "copying image 107\n",
      "copying image 108\n",
      "copying image 109\n",
      "copying image 110\n",
      "copying image 111\n",
      "copying image 112\n",
      "copying image 113\n",
      "copying image 114\n",
      "copying image 115\n",
      "copying image 116\n",
      "copying image 117\n",
      "copying image 118\n",
      "copying image 119\n",
      "copying image 120\n",
      "copying image 121\n",
      "copying image 122\n",
      "copying image 123\n",
      "copying image 124\n",
      "copying image 125\n",
      "copying image 126\n",
      "copying image 127\n",
      "copying image 128\n",
      "copying image 129\n",
      "copying image 130\n",
      "copying image 131\n",
      "copying image 132\n",
      "copying image 133\n",
      "copying image 134\n",
      "copying image 135\n",
      "copying image 136\n",
      "copying image 137\n",
      "copying image 138\n",
      "copying image 139\n",
      "copying image 140\n",
      "copying image 141\n",
      "copying image 142\n",
      "copying image 143\n",
      "copying image 144\n",
      "copying image 145\n",
      "copying image 146\n",
      "copying image 147\n",
      "copying image 148\n",
      "copying image 149\n",
      "copying image 150\n",
      "copying image 151\n",
      "copying image 152\n",
      "copying image 153\n",
      "copying image 154\n",
      "copying image 155\n",
      "copying image 156\n",
      "copying image 157\n",
      "copying image 158\n",
      "copying image 159\n",
      "copying image 160\n",
      "copying image 161\n",
      "copying image 162\n",
      "copying image 163\n",
      "copying image 164\n",
      "copying image 165\n",
      "copying image 166\n",
      "copying image 167\n",
      "copying image 168\n",
      "copying image 169\n",
      "copying image 170\n",
      "copying image 171\n",
      "copying image 172\n",
      "copying image 173\n",
      "copying image 174\n",
      "copying image 175\n",
      "copying image 176\n",
      "copying image 177\n",
      "copying image 178\n",
      "copying image 179\n",
      "copying image 180\n",
      "copying image 181\n",
      "copying image 182\n",
      "copying image 183\n",
      "copying image 184\n",
      "copying image 185\n",
      "copying image 186\n",
      "copying image 187\n",
      "copying image 188\n",
      "copying image 189\n",
      "copying image 190\n",
      "copying image 191\n",
      "copying image 192\n",
      "copying image 193\n",
      "copying image 194\n",
      "copying image 195\n"
     ]
    }
   ],
   "source": [
    "for i in range(196):                            #selecting random 196 mages\n",
    "    image_name = image_names[i]\n",
    "    image_path = os.path.join(kaggle_file_path,image_name)\n",
    "    \n",
    "    target_path = os.path.join(target_normal_dir,image_name)\n",
    "    \n",
    "    shutil.copy2(image_path,target_path)\n",
    "    print(\"copying image\",i)"
   ]
  },
  {
   "cell_type": "markdown",
   "metadata": {},
   "source": [
    "# Model Building"
   ]
  },
  {
   "cell_type": "code",
   "execution_count": 18,
   "metadata": {},
   "outputs": [
    {
     "name": "stdout",
     "output_type": "stream",
     "text": [
      "Requirement already satisfied: keras in c:\\users\\admin\\anaconda3\\lib\\site-packages (2.8.0)\n"
     ]
    }
   ],
   "source": [
    "! pip install keras"
   ]
  },
  {
   "cell_type": "code",
   "execution_count": 20,
   "metadata": {},
   "outputs": [
    {
     "name": "stdout",
     "output_type": "stream",
     "text": [
      "Collecting tensorflow\n",
      "  Using cached tensorflow-2.8.0-cp39-cp39-win_amd64.whl (438.0 MB)\n",
      "Collecting tensorboard<2.9,>=2.8\n",
      "  Using cached tensorboard-2.8.0-py3-none-any.whl (5.8 MB)\n",
      "Requirement already satisfied: h5py>=2.9.0 in c:\\users\\admin\\anaconda3\\lib\\site-packages (from tensorflow) (3.2.1)\n",
      "Collecting keras-preprocessing>=1.1.1\n",
      "  Using cached Keras_Preprocessing-1.1.2-py2.py3-none-any.whl (42 kB)\n",
      "Collecting flatbuffers>=1.12\n",
      "  Using cached flatbuffers-2.0-py2.py3-none-any.whl (26 kB)\n",
      "Requirement already satisfied: wrapt>=1.11.0 in c:\\users\\admin\\anaconda3\\lib\\site-packages (from tensorflow) (1.12.1)\n",
      "Requirement already satisfied: six>=1.12.0 in c:\\users\\admin\\anaconda3\\lib\\site-packages (from tensorflow) (1.16.0)\n",
      "Collecting termcolor>=1.1.0\n",
      "  Using cached termcolor-1.1.0.tar.gz (3.9 kB)\n",
      "Collecting opt-einsum>=2.3.2\n",
      "  Using cached opt_einsum-3.3.0-py3-none-any.whl (65 kB)\n",
      "Collecting google-pasta>=0.1.1\n",
      "  Using cached google_pasta-0.2.0-py3-none-any.whl (57 kB)\n",
      "Collecting absl-py>=0.4.0\n",
      "  Using cached absl_py-1.0.0-py3-none-any.whl (126 kB)\n",
      "Requirement already satisfied: numpy>=1.20 in c:\\users\\admin\\anaconda3\\lib\\site-packages (from tensorflow) (1.20.3)\n",
      "Collecting tensorflow-io-gcs-filesystem>=0.23.1\n",
      "  Downloading tensorflow_io_gcs_filesystem-0.24.0-cp39-cp39-win_amd64.whl (1.5 MB)\n",
      "Collecting protobuf>=3.9.2\n",
      "  Downloading protobuf-3.19.4-cp39-cp39-win_amd64.whl (895 kB)\n",
      "Collecting astunparse>=1.6.0\n",
      "  Using cached astunparse-1.6.3-py2.py3-none-any.whl (12 kB)\n",
      "Collecting tf-estimator-nightly==2.8.0.dev2021122109\n",
      "  Downloading tf_estimator_nightly-2.8.0.dev2021122109-py2.py3-none-any.whl (462 kB)\n",
      "Collecting grpcio<2.0,>=1.24.3\n",
      "  Downloading grpcio-1.44.0-cp39-cp39-win_amd64.whl (3.4 MB)\n",
      "Requirement already satisfied: setuptools in c:\\users\\admin\\anaconda3\\lib\\site-packages (from tensorflow) (58.0.4)\n",
      "Requirement already satisfied: keras<2.9,>=2.8.0rc0 in c:\\users\\admin\\anaconda3\\lib\\site-packages (from tensorflow) (2.8.0)\n",
      "Collecting gast>=0.2.1\n",
      "  Downloading gast-0.5.3-py3-none-any.whl (19 kB)\n",
      "Requirement already satisfied: typing-extensions>=3.6.6 in c:\\users\\admin\\anaconda3\\lib\\site-packages (from tensorflow) (3.10.0.2)\n",
      "Collecting libclang>=9.0.1\n",
      "  Using cached libclang-13.0.0-py2.py3-none-win_amd64.whl (13.9 MB)\n",
      "Requirement already satisfied: wheel<1.0,>=0.23.0 in c:\\users\\admin\\anaconda3\\lib\\site-packages (from astunparse>=1.6.0->tensorflow) (0.37.0)\n",
      "Collecting google-auth<3,>=1.6.3\n",
      "  Downloading google_auth-2.6.2-py2.py3-none-any.whl (156 kB)\n",
      "Collecting markdown>=2.6.8\n",
      "  Using cached Markdown-3.3.6-py3-none-any.whl (97 kB)\n",
      "Collecting google-auth-oauthlib<0.5,>=0.4.1\n",
      "  Using cached google_auth_oauthlib-0.4.6-py2.py3-none-any.whl (18 kB)\n",
      "Requirement already satisfied: requests<3,>=2.21.0 in c:\\users\\admin\\anaconda3\\lib\\site-packages (from tensorboard<2.9,>=2.8->tensorflow) (2.26.0)\n",
      "Collecting tensorboard-data-server<0.7.0,>=0.6.0\n",
      "  Using cached tensorboard_data_server-0.6.1-py3-none-any.whl (2.4 kB)\n",
      "Requirement already satisfied: werkzeug>=0.11.15 in c:\\users\\admin\\anaconda3\\lib\\site-packages (from tensorboard<2.9,>=2.8->tensorflow) (2.0.2)\n",
      "Collecting tensorboard-plugin-wit>=1.6.0\n",
      "  Using cached tensorboard_plugin_wit-1.8.1-py3-none-any.whl (781 kB)\n",
      "Collecting cachetools<6.0,>=2.0.0\n",
      "  Using cached cachetools-5.0.0-py3-none-any.whl (9.1 kB)\n",
      "Collecting rsa<5,>=3.1.4\n",
      "  Using cached rsa-4.8-py3-none-any.whl (39 kB)\n",
      "Collecting pyasn1-modules>=0.2.1\n",
      "  Using cached pyasn1_modules-0.2.8-py2.py3-none-any.whl (155 kB)\n",
      "Collecting requests-oauthlib>=0.7.0\n",
      "  Downloading requests_oauthlib-1.3.1-py2.py3-none-any.whl (23 kB)\n",
      "Requirement already satisfied: importlib-metadata>=4.4 in c:\\users\\admin\\anaconda3\\lib\\site-packages (from markdown>=2.6.8->tensorboard<2.9,>=2.8->tensorflow) (4.8.1)"
     ]
    }
   ],
   "source": [
    "#importing packages\n",
    "!pip install tensorflow"
   ]
  },
  {
   "cell_type": "code",
   "execution_count": 22,
   "metadata": {},
   "outputs": [],
   "source": [
    "import numpy as np\n",
    "import matplotlib.pyplot as plt\n",
    "import tensorflow as tf\n",
    "from tensorflow import keras\n",
    "import keras.models as km\n",
    "from keras.models import Sequential\n",
    "from keras.layers import Dense,Dropout, Activation, Flatten\n",
    "from keras.layers import Conv2D, MaxPooling2D\n",
    "from keras.preprocessing import image\n"
   ]
  },
  {
   "cell_type": "code",
   "execution_count": 23,
   "metadata": {},
   "outputs": [],
   "source": [
    "train_path = \"CovidDataset/Train\"\n",
    "val_path = \"CovidDataset/test\""
   ]
  },
  {
   "cell_type": "markdown",
   "metadata": {},
   "source": [
    "### CNN based model in keras"
   ]
  },
  {
   "cell_type": "code",
   "execution_count": 24,
   "metadata": {},
   "outputs": [],
   "source": [
    "model  = Sequential()                                                                  #defining the model\n",
    "model.add(Conv2D(32,kernel_size= (3,3),activation = \"relu\",input_shape = (224,224,3))) #conv layer1\n",
    "model.add(Conv2D(64,(3,3),activation = \"relu\"))                                        #conv layer2\n",
    "model.add(MaxPooling2D(pool_size = (2,2)))                                             #Pooling layer 1\n",
    "model.add(Dropout(0.25))                                                               #Dropout layer 1 \n",
    "\n",
    "model.add(Conv2D(64,(3,3),activation = \"relu\"))                                        #conv layer 2\n",
    "model.add(MaxPooling2D(pool_size = (2,2)))                                             #Pooling layer 2\n",
    "model.add(Dropout(0.25))                                                               #Dropout layer 2\n",
    "\n",
    "model.add(Conv2D(128,(3,3),activation = \"relu\"))                                       #conv layer 3    \n",
    "model.add(MaxPooling2D(pool_size = (2,2)))                                             #Pooling layer 3    \n",
    "model.add(Dropout(0.25))                                                               #Dropout layer 3\n",
    "\n",
    "model.add(Flatten())                                                                   #flatten layer   \n",
    "model.add(Dense(64,activation=\"relu\"))                                                 #Dense layer 1\n",
    "model.add(Dropout(0.5))                                                                #Dropout layer\n",
    "model.add(Dense(1,activation=\"sigmoid\"))                                               #Dense layer 2(output layer)\n",
    "\n",
    "model.compile(loss=keras.losses.binary_crossentropy,optimizer=\"adam\",metrics=[\"accuracy\"])\n"
   ]
  },
  {
   "cell_type": "code",
   "execution_count": 25,
   "metadata": {},
   "outputs": [
    {
     "name": "stdout",
     "output_type": "stream",
     "text": [
      "Model: \"sequential\"\n",
      "_________________________________________________________________\n",
      " Layer (type)                Output Shape              Param #   \n",
      "=================================================================\n",
      " conv2d (Conv2D)             (None, 222, 222, 32)      896       \n",
      "                                                                 \n",
      " conv2d_1 (Conv2D)           (None, 220, 220, 64)      18496     \n",
      "                                                                 \n",
      " max_pooling2d (MaxPooling2D  (None, 110, 110, 64)     0         \n",
      " )                                                               \n",
      "                                                                 \n",
      " dropout (Dropout)           (None, 110, 110, 64)      0         \n",
      "                                                                 \n",
      " conv2d_2 (Conv2D)           (None, 108, 108, 64)      36928     \n",
      "                                                                 \n",
      " max_pooling2d_1 (MaxPooling  (None, 54, 54, 64)       0         \n",
      " 2D)                                                             \n",
      "                                                                 \n",
      " dropout_1 (Dropout)         (None, 54, 54, 64)        0         \n",
      "                                                                 \n",
      " conv2d_3 (Conv2D)           (None, 52, 52, 128)       73856     \n",
      "                                                                 \n",
      " max_pooling2d_2 (MaxPooling  (None, 26, 26, 128)      0         \n",
      " 2D)                                                             \n",
      "                                                                 \n",
      " dropout_2 (Dropout)         (None, 26, 26, 128)       0         \n",
      "                                                                 \n",
      " flatten (Flatten)           (None, 86528)             0         \n",
      "                                                                 \n",
      " dense (Dense)               (None, 64)                5537856   \n",
      "                                                                 \n",
      " dropout_3 (Dropout)         (None, 64)                0         \n",
      "                                                                 \n",
      " dense_1 (Dense)             (None, 1)                 65        \n",
      "                                                                 \n",
      "=================================================================\n",
      "Total params: 5,668,097\n",
      "Trainable params: 5,668,097\n",
      "Non-trainable params: 0\n",
      "_________________________________________________________________\n"
     ]
    }
   ],
   "source": [
    "model.summary()"
   ]
  },
  {
   "cell_type": "code",
   "execution_count": 26,
   "metadata": {},
   "outputs": [],
   "source": [
    "#train data generation\n",
    "train_datagen = image.ImageDataGenerator(\n",
    "    rescale=1/255,\n",
    "    shear_range=0.2,\n",
    "    zoom_range=0.2,\n",
    "    horizontal_flip=True,\n",
    ")\n",
    "\n",
    "test_datagen = image.ImageDataGenerator(rescale=1/255)"
   ]
  },
  {
   "cell_type": "code",
   "execution_count": 27,
   "metadata": {},
   "outputs": [
    {
     "name": "stdout",
     "output_type": "stream",
     "text": [
      "Found 224 images belonging to 2 classes.\n"
     ]
    }
   ],
   "source": [
    "train_generator = train_datagen.flow_from_directory(\n",
    "    \"Coviddataset/Train\",\n",
    "    target_size=(224,224),\n",
    "    batch_size=32,\n",
    "    class_mode='binary')\n",
    "\n"
   ]
  },
  {
   "cell_type": "code",
   "execution_count": 28,
   "metadata": {},
   "outputs": [
    {
     "data": {
      "text/plain": [
       "{'Covid': 0, 'Normal': 1}"
      ]
     },
     "execution_count": 28,
     "metadata": {},
     "output_type": "execute_result"
    }
   ],
   "source": [
    "train_generator.class_indices"
   ]
  },
  {
   "cell_type": "code",
   "execution_count": 29,
   "metadata": {},
   "outputs": [
    {
     "name": "stdout",
     "output_type": "stream",
     "text": [
      "Found 60 images belonging to 2 classes.\n"
     ]
    }
   ],
   "source": [
    "#validation data generation\n",
    "val_generator = test_datagen.flow_from_directory(\n",
    "    \"Coviddataset/val\",\n",
    "    target_size=(224,224),\n",
    "    batch_size=32,\n",
    "    class_mode='binary'\n",
    ")"
   ]
  },
  {
   "cell_type": "code",
   "execution_count": 30,
   "metadata": {},
   "outputs": [
    {
     "name": "stderr",
     "output_type": "stream",
     "text": [
      "C:\\Users\\ADMIN\\AppData\\Local\\Temp/ipykernel_10876/2798517411.py:1: UserWarning: `Model.fit_generator` is deprecated and will be removed in a future version. Please use `Model.fit`, which supports generators.\n",
      "  hist = model.fit_generator(\n"
     ]
    },
    {
     "name": "stdout",
     "output_type": "stream",
     "text": [
      "Epoch 1/10\n",
      "7/7 [==============================] - 101s 12s/step - loss: 2.3250 - accuracy: 0.5312 - val_loss: 0.6912 - val_accuracy: 0.5000\n",
      "Epoch 2/10\n",
      "7/7 [==============================] - 68s 9s/step - loss: 0.6963 - accuracy: 0.4732 - val_loss: 0.6925 - val_accuracy: 0.7167\n",
      "Epoch 3/10\n",
      "7/7 [==============================] - 67s 9s/step - loss: 0.6776 - accuracy: 0.6205 - val_loss: 0.6670 - val_accuracy: 0.9000\n",
      "Epoch 4/10\n",
      "7/7 [==============================] - 70s 10s/step - loss: 0.5828 - accuracy: 0.7143 - val_loss: 0.4794 - val_accuracy: 0.9333\n",
      "Epoch 5/10\n",
      "7/7 [==============================] - 69s 10s/step - loss: 0.4800 - accuracy: 0.7902 - val_loss: 0.3501 - val_accuracy: 0.9333\n",
      "Epoch 6/10\n",
      "7/7 [==============================] - 68s 9s/step - loss: 0.3879 - accuracy: 0.8527 - val_loss: 0.2896 - val_accuracy: 0.8833\n",
      "Epoch 7/10\n",
      "7/7 [==============================] - 71s 10s/step - loss: 0.3765 - accuracy: 0.8616 - val_loss: 0.1905 - val_accuracy: 0.9667\n",
      "Epoch 8/10\n",
      "7/7 [==============================] - 67s 9s/step - loss: 0.2986 - accuracy: 0.8795 - val_loss: 0.2079 - val_accuracy: 0.9000\n",
      "Epoch 9/10\n",
      "7/7 [==============================] - 70s 10s/step - loss: 0.2459 - accuracy: 0.9062 - val_loss: 0.1498 - val_accuracy: 0.9833\n",
      "Epoch 10/10\n",
      "7/7 [==============================] - 70s 10s/step - loss: 0.2034 - accuracy: 0.9107 - val_loss: 0.1111 - val_accuracy: 0.9667\n"
     ]
    }
   ],
   "source": [
    "wsdxc bhist = model.fit_generator(\n",
    "        train_generator,\n",
    "        epochs=10,\n",
    "        validation_data=val_generator,\n",
    "        validation_steps=2\n",
    "        )"
   ]
  },
  {
   "cell_type": "code",
   "execution_count": 34,
   "metadata": {},
   "outputs": [],
   "source": [
    "model.save(\"model_adv.h5\")"
   ]
  },
  {
   "cell_type": "code",
   "execution_count": 35,
   "metadata": {},
   "outputs": [
    {
     "name": "stdout",
     "output_type": "stream",
     "text": [
      "7/7 [==============================] - 23s 3s/step - loss: 0.1583 - accuracy: 0.9598\n"
     ]
    },
    {
     "data": {
      "text/plain": [
       "[0.15827004611492157, 0.9598214030265808]"
      ]
     },
     "execution_count": 35,
     "metadata": {},
     "output_type": "execute_result"
    }
   ],
   "source": [
    "model.evaluate(train_generator)"
   ]
  },
  {
   "cell_type": "code",
   "execution_count": 36,
   "metadata": {},
   "outputs": [
    {
     "name": "stdout",
     "output_type": "stream",
     "text": [
      "2/2 [==============================] - 6s 2s/step - loss: 0.1111 - accuracy: 0.9667\n"
     ]
    },
    {
     "data": {
      "text/plain": [
       "[0.11112582683563232, 0.9666666388511658]"
      ]
     },
     "execution_count": 36,
     "metadata": {},
     "output_type": "execute_result"
    }
   ],
   "source": [
    "model.evaluate(val_generator)"
   ]
  },
  {
   "cell_type": "markdown",
   "metadata": {},
   "source": [
    "### Test images"
   ]
  },
  {
   "cell_type": "code",
   "execution_count": 79,
   "metadata": {},
   "outputs": [],
   "source": [
    "from keras import models"
   ]
  },
  {
   "cell_type": "code",
   "execution_count": 80,
   "metadata": {},
   "outputs": [],
   "source": [
    "model = models.load_model(\"model_adv.h5\")"
   ]
  },
  {
   "cell_type": "code",
   "execution_count": 81,
   "metadata": {},
   "outputs": [
    {
     "data": {
      "text/plain": [
       "{'Covid': 0, 'Normal': 1}"
      ]
     },
     "execution_count": 81,
     "metadata": {},
     "output_type": "execute_result"
    }
   ],
   "source": [
    "train_generator.class_indices"
   ]
  },
  {
   "cell_type": "code",
   "execution_count": 82,
   "metadata": {},
   "outputs": [],
   "source": [
    "y_actual = []\n",
    "y_test = []"
   ]
  },
  {
   "cell_type": "code",
   "execution_count": 83,
   "metadata": {},
   "outputs": [],
   "source": [
    "for i in os.listdir(\"./CovidDataset/Val/Normal/\"):\n",
    "    img = image.load_img(\"./CovidDataset/Val/Normal/\"+i, target_size = (224,224))\n",
    "    img = image.img_to_array(img)\n",
    "    img = np.expand_dims(img,axis=0)\n",
    "    p =  (model.predict(img) > 0.5).astype(\"int32\")\n",
    "    y_test.append(p[0])\n",
    "    y_actual.append(1)"
   ]
  },
  {
   "cell_type": "code",
   "execution_count": 84,
   "metadata": {},
   "outputs": [],
   "source": [
    "for i in os.listdir(\"./CovidDataset/Val/Covid/\"):\n",
    "    img = image.load_img(\"./CovidDataset/Val/Covid/\"+i, target_size = (224,224))\n",
    "    img = image.img_to_array(img)\n",
    "    img = np.expand_dims(img,axis=0)\n",
    "    p =  (model.predict(img) > 0.5).astype(\"int32\")\n",
    "    y_test.append(p[0])\n",
    "    y_actual.append(0)"
   ]
  },
  {
   "cell_type": "code",
   "execution_count": 85,
   "metadata": {},
   "outputs": [],
   "source": [
    "y_actual = np.array(y_actual)\n",
    "y_test = np.array(y_test)"
   ]
  },
  {
   "cell_type": "code",
   "execution_count": 86,
   "metadata": {},
   "outputs": [],
   "source": [
    "from sklearn.metrics import confusion_matrix"
   ]
  },
  {
   "cell_type": "code",
   "execution_count": 87,
   "metadata": {},
   "outputs": [],
   "source": [
    "cm = confusion_matrix(y_actual,y_test)"
   ]
  },
  {
   "cell_type": "code",
   "execution_count": 88,
   "metadata": {},
   "outputs": [],
   "source": [
    "import seaborn as sns"
   ]
  },
  {
   "cell_type": "code",
   "execution_count": 94,
   "metadata": {},
   "outputs": [
    {
     "data": {
      "text/plain": [
       "<AxesSubplot:>"
      ]
     },
     "execution_count": 94,
     "metadata": {},
     "output_type": "execute_result"
    },
    {
     "data": {
      "image/png": "[encoded data removed]",
      "text/plain": [
       "<Figure size 432x288 with 2 Axes>"
      ]
     },
     "metadata": {
      "needs_background": "light"
     },
     "output_type": "display_data"
    }
   ],
   "source": [
    "sns.heatmap(cm,cmap=\"plasma\",annot=True)"
   ]
  },
  {
   "cell_type": "code",
   "execution_count": null,
   "metadata": {},
   "outputs": [],
   "source": []
  }
 ],
 "metadata": {
  "kernelspec": {
   "display_name": "Python 3 (ipykernel)",
   "language": "python",
   "name": "python3"
  },
  "language_info": {
   "codemirror_mode": {
    "name": "ipython",
    "version": 3
   },
   "file_extension": ".py",
   "mimetype": "text/x-python",
   "name": "python",
   "nbconvert_exporter": "python",
   "pygments_lexer": "ipython3",
   "version": "3.9.7"
  }
 },
 "nbformat": 4,
 "nbformat_minor": 4
}
